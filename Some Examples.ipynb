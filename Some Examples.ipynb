{
 "cells": [
  {
   "cell_type": "markdown",
   "metadata": {},
   "source": [
    "# Some examples in Python"
   ]
  },
  {
   "cell_type": "code",
   "execution_count": null,
   "metadata": {
    "tags": []
   },
   "outputs": [],
   "source": [
    "import folium # conda install -c conda-forge folium\n",
    "import pandas as pd\n",
    "import numpy as np\n",
    "import matplotlib.pyplot as plt\n",
    "import plotly.graph_objects as go\n",
    "import plotly.express as px"
   ]
  },
  {
   "cell_type": "markdown",
   "metadata": {},
   "source": [
    "## Example 1: Exploring CO2 Emissions"
   ]
  },
  {
   "cell_type": "markdown",
   "metadata": {},
   "source": [
    "### Load the World Development Indicators Dataset"
   ]
  },
  {
   "cell_type": "code",
   "execution_count": null,
   "metadata": {
    "tags": []
   },
   "outputs": [],
   "source": [
    "data = pd.read_csv('data/Indicators_reduced.csv')"
   ]
  },
  {
   "cell_type": "code",
   "execution_count": null,
   "metadata": {
    "tags": []
   },
   "outputs": [],
   "source": [
    "data.head()"
   ]
  },
  {
   "cell_type": "markdown",
   "metadata": {
    "tags": []
   },
   "source": [
    "### Setup our data for plotting  \n",
    "\n",
    "Create a data frame with just the country codes and the values we want plotted."
   ]
  },
  {
   "cell_type": "code",
   "execution_count": null,
   "metadata": {},
   "outputs": [],
   "source": [
    "plot_data = data[['CountryCode','Value']]\n",
    "plot_data.head()"
   ]
  },
  {
   "cell_type": "code",
   "execution_count": null,
   "metadata": {
    "tags": []
   },
   "outputs": [],
   "source": [
    "# label for the legend\n",
    "hist_indicator = data.iloc[0]['IndicatorName']\n",
    "print(hist_indicator)"
   ]
  },
  {
   "cell_type": "markdown",
   "metadata": {},
   "source": [
    "### Country coordinates for plotting\n",
    "\n",
    "`Folium` requires a Geo JSON file, including geospatial data of the region. There are many files available, from World Maps to states in the Us, to county level data.\n",
    "\n",
    "In this example, we will be using country level data for countries around the world.\n",
    "\n",
    "source: https://github.com/python-visualization/folium/blob/master/examples/data/world-countries.json"
   ]
  },
  {
   "cell_type": "code",
   "execution_count": null,
   "metadata": {
    "tags": []
   },
   "outputs": [],
   "source": [
    "country_geo = 'data/world-countries.json'"
   ]
  },
  {
   "cell_type": "markdown",
   "metadata": {},
   "source": [
    "### Visualize CO2 emissions per capita using Folium\n",
    "\n",
    "Folium provides interactive maps with the ability to create sophisticated overlays for data visualization\n",
    "\n",
    "<div class=\"alert alert-block alert-info\">\n",
    "A <B>choropleth</B> map is a thematic map in which areas are shaded according to the statistical variable being displayed on the map. This visualization is really useful to represent the variability of a measurement across a region using a sequential color scheme (the higher the measurement the stronger the color). \n",
    "</div>"
   ]
  },
  {
   "cell_type": "markdown",
   "metadata": {},
   "source": [
    "#### Customization of the map\n",
    "\n",
    "There are multiple parameters to customize `choropleth` maps in `Folium`. The following parameters are the ones we previously used in our visualization:\n",
    "\n",
    "**Map function**\n",
    "- `location` : Latitude and longitude of the map.\n",
    "- `zoom_start` : Initial zoom level for the map.\n",
    "- `tiles` : Map tiles.\n",
    "\n",
    "**Choropleth function**\n",
    "- `geo_data` : Name (with path if not in working directory) of the `json` file. \n",
    "- `data` : Name of the data frame containing the data.\n",
    "- `columns` : Columns employed to generate the `choropleth` map.\n",
    "- `key_on` : Key in the `json` file that contains the name of the country.\n",
    "- `fill_color` : Color scheme used in the visualization.\n",
    "- `fill_opacity` : Area fill opacity, range 0–1 (default 0.6).\n",
    "- `line_opacity` : GeoJSON geopath line opacity, range 0–1 (default 1).\n",
    "- `legend_name` : Title for the legend (default empty string).\n",
    "- `smooth_factor` : How much to simplify the polyline on each zoom level."
   ]
  },
  {
   "cell_type": "code",
   "execution_count": null,
   "metadata": {
    "tags": []
   },
   "outputs": [],
   "source": [
    "# Setup a folium map at a high-level zoom \n",
    "map = folium.Map(location=[20, 0], zoom_start=1.5)"
   ]
  },
  {
   "cell_type": "markdown",
   "metadata": {},
   "source": [
    "#### Rendering map and layers"
   ]
  },
  {
   "cell_type": "code",
   "execution_count": null,
   "metadata": {},
   "outputs": [],
   "source": [
    "# create a plain world map\n",
    "map = folium.Map(location=[20, 0], zoom_start=1.5)\n",
    "\n",
    "# add tile layers to the map\n",
    "tiles = ['stamenwatercolor', 'cartodbpositron', 'openstreetmap', 'stamenterrain']\n",
    "for tile in tiles:\n",
    "    folium.TileLayer(tile).add_to(map)\n",
    "\n",
    "# generate choropleth map \n",
    "mychoropleth = folium.Choropleth(geo_data=country_geo,\n",
    "                  data=plot_data,\n",
    "                  columns=['CountryCode', 'Value'],\n",
    "                  key_on='feature.id',\n",
    "                  fill_color='YlGn', # 'YlGnBu'\n",
    "                  fill_opacity=0.7, \n",
    "                  line_opacity=0.1,\n",
    "                  legend_name=hist_indicator,\n",
    "                  smooth_factor=0).add_to(map)\n",
    "\n",
    "# add labels indicating the name of the country\n",
    "style_function = \"font-size: 15px; font-weight: bold\"\n",
    "mychoropleth.geojson.add_child(\n",
    "    folium.features.GeoJsonTooltip(['name'], style=style_function, labels=False))\n",
    "\n",
    "# create a layer control\n",
    "folium.LayerControl().add_to(map)\n",
    "\n",
    "# display map\n",
    "map"
   ]
  },
  {
   "cell_type": "code",
   "execution_count": null,
   "metadata": {},
   "outputs": [],
   "source": [
    "map.save('plot_data_with_tooltips.html')"
   ]
  },
  {
   "cell_type": "markdown",
   "metadata": {},
   "source": [
    "#### View results from saved HTML"
   ]
  },
  {
   "cell_type": "code",
   "execution_count": null,
   "metadata": {},
   "outputs": [],
   "source": [
    "from IPython.display import IFrame\n",
    "IFrame(src='plot_data_with_tooltips.html', width=1000, height=650)"
   ]
  },
  {
   "cell_type": "markdown",
   "metadata": {},
   "source": [
    "<div class=\"alert alert-block alert-info\">\n",
    "    <B>Hint:</B>\n",
    "    It is also possible to create maps with other libraries such as <B>Plotly</B>, <B>GeoPandas</B> or <B>GeoViews</B>.\n",
    "</div>"
   ]
  },
  {
   "cell_type": "markdown",
   "metadata": {},
   "source": [
    "## Example 2: Scatterplots"
   ]
  },
  {
   "cell_type": "code",
   "execution_count": null,
   "metadata": {},
   "outputs": [],
   "source": [
    "points = 500\n",
    "data = np.zeros([points,3])\n",
    "x = np.random.rand(points)*100\n",
    "y = np.random.rand(points)*100\n",
    "z = np.sinc((x-20)/100*3.14) + np.sinc((y-50)/100*3.14)"
   ]
  },
  {
   "cell_type": "code",
   "execution_count": null,
   "metadata": {},
   "outputs": [],
   "source": [
    "#s=[(y[i]/x[i])**2 for i in range(len(x))]\n",
    "s=[(y[i]-x[i])**2 for i in range(len(x))]\n",
    "\n",
    "fig = plt.figure(figsize=(18,12))\n",
    "ax = fig.add_subplot(1,1,1)\n",
    "ax.scatter(x, y, marker=\"o\", c=\"orange\", edgecolors=\"darkgreen\", s=s, alpha=0.5)\n",
    "ax.set_xlabel('X')\n",
    "ax.set_ylabel('Y')\n",
    "ax.set_title('My figure title',fontsize=20)\n",
    "plt.axis('tight')                                   # sets tight layout\n",
    "plt.show()"
   ]
  },
  {
   "cell_type": "markdown",
   "metadata": {},
   "source": [
    "## Example 3: 3D plotting in `plotly`"
   ]
  },
  {
   "cell_type": "code",
   "execution_count": null,
   "metadata": {},
   "outputs": [],
   "source": [
    "# Read data from a csv\n",
    "z_data = pd.read_csv('https://raw.githubusercontent.com/plotly/datasets/master/api_docs/mt_bruno_elevation.csv')"
   ]
  },
  {
   "cell_type": "code",
   "execution_count": null,
   "metadata": {},
   "outputs": [],
   "source": [
    "fig = go.Figure(data=[go.Surface(z=z_data.values)])\n",
    "fig.update_traces(contours_z=dict(show=True, usecolormap=True,\n",
    "                                  highlightcolor=\"limegreen\", project_z=True))\n",
    "fig.update_layout(title='Mt Bruno Elevation', autosize=False,\n",
    "                  scene_camera_eye=dict(x=1.87, y=0.88, z=-0.64),\n",
    "                  width=500, height=500,\n",
    "                  margin=dict(l=65, r=50, b=65, t=90)\n",
    ")\n",
    "\n",
    "fig.show()"
   ]
  },
  {
   "cell_type": "code",
   "execution_count": null,
   "metadata": {},
   "outputs": [],
   "source": []
  }
 ],
 "metadata": {
  "kernelspec": {
   "display_name": "Python 3",
   "language": "python",
   "name": "python3"
  },
  "language_info": {
   "codemirror_mode": {
    "name": "ipython",
    "version": 3
   },
   "file_extension": ".py",
   "mimetype": "text/x-python",
   "name": "python",
   "nbconvert_exporter": "python",
   "pygments_lexer": "ipython3",
   "version": "3.7.4"
  }
 },
 "nbformat": 4,
 "nbformat_minor": 4
}
